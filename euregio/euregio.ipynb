{
 "cells": [
  {
   "cell_type": "code",
   "execution_count": 2,
   "metadata": {},
   "outputs": [
    {
     "name": "stdout",
     "output_type": "stream",
     "text": [
      "<class 'pandas.core.frame.DataFrame'>\n",
      "RangeIndex: 35 entries, 0 to 34\n",
      "Data columns (total 20 columns):\n",
      " #   Column          Non-Null Count  Dtype  \n",
      "---  ------          --------------  -----  \n",
      " 0   id_Servizio     35 non-null     int64  \n",
      " 1   ServiceNameIT   35 non-null     object \n",
      " 2   ServiceNameDE   35 non-null     object \n",
      " 3   Category        35 non-null     object \n",
      " 4   URL             35 non-null     object \n",
      " 5   MobileContact   35 non-null     object \n",
      " 6   Email           35 non-null     object \n",
      " 7   AddressIT       35 non-null     object \n",
      " 8   AddressDE       35 non-null     object \n",
      " 9   MunicipalityIT  35 non-null     object \n",
      " 10  MunicipalityDE  35 non-null     object \n",
      " 11  DistrictIT      35 non-null     object \n",
      " 12  DistrictDE      35 non-null     object \n",
      " 13  Valid_from      35 non-null     object \n",
      " 14  Valid_until     35 non-null     object \n",
      " 15  InfoBonus       35 non-null     bool   \n",
      " 16  Latitude        35 non-null     float64\n",
      " 17  Longitude       35 non-null     float64\n",
      " 18  FamilyPassIT    35 non-null     object \n",
      " 19  FamilyPassDE    35 non-null     object \n",
      "dtypes: bool(1), float64(2), int64(1), object(16)\n",
      "memory usage: 5.4+ KB\n"
     ]
    }
   ],
   "source": [
    "import pandas as pd\n",
    "\n",
    "df = pd.read_csv('aderenti-euregiofamilycard.csv', encoding='utf-8')\n",
    "df.info()"
   ]
  },
  {
   "cell_type": "code",
   "execution_count": null,
   "metadata": {},
   "outputs": [],
   "source": [
    "# search for b1 in Category column\n",
    "df [ df['Category'].str.contains('b1,')]"
   ]
  },
  {
   "cell_type": "code",
   "execution_count": null,
   "metadata": {},
   "outputs": [],
   "source": [
    "# search for b3 and b12 in Category column\n",
    "df [  df['Category'].str.contains('b3') | df['Category'].str.contains('b12')  ]"
   ]
  },
  {
   "cell_type": "code",
   "execution_count": null,
   "metadata": {},
   "outputs": [],
   "source": [
    "#facebook account\n",
    "\n",
    "df['account facebook'] = df['URL'].str.extract('facebook.com/([^/]+)', expand=False)\n",
    "df[ df['account facebook'].notnull() ][['ServiceNameIT','account facebook']]"
   ]
  },
  {
   "cell_type": "code",
   "execution_count": 3,
   "metadata": {},
   "outputs": [
    {
     "name": "stdout",
     "output_type": "stream",
     "text": [
      "info@buonconsiglio.it\n",
      "info@museostorico.it\n",
      "museinfo@muse.it\n",
      "info@mart.tn.it\n",
      "uff.beniarcheologici@provincia.tn.it\n",
      "segnalazioni@ttesercizio.it\n",
      "info@sanifonds.tn.it\n"
     ]
    }
   ],
   "source": [
    "# email of activity in Trento\n",
    "mail = df[df['MunicipalityIT'].str.contains('Trento')]\n",
    "nuovemail = pd.unique(pd.Series(mail['Email']))\n",
    "for x in nuovemail:\n",
    "    print(x)"
   ]
  },
  {
   "cell_type": "code",
   "execution_count": null,
   "metadata": {},
   "outputs": [],
   "source": [
    "# telephone mobile number\n",
    "df[df['MobileContact'].str[0] != '0']"
   ]
  }
 ],
 "metadata": {
  "kernelspec": {
   "display_name": "base",
   "language": "python",
   "name": "python3"
  },
  "language_info": {
   "codemirror_mode": {
    "name": "ipython",
    "version": 3
   },
   "file_extension": ".py",
   "mimetype": "text/x-python",
   "name": "python",
   "nbconvert_exporter": "python",
   "pygments_lexer": "ipython3",
   "version": "3.10.9"
  },
  "orig_nbformat": 4
 },
 "nbformat": 4,
 "nbformat_minor": 2
}
